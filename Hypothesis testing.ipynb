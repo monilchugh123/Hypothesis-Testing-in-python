{
 "cells": [
  {
   "cell_type": "code",
   "execution_count": 2,
   "id": "ef70f124",
   "metadata": {},
   "outputs": [],
   "source": [
    "import pandas as pd\n",
    "from scipy.stats import ttest_ind"
   ]
  },
  {
   "cell_type": "code",
   "execution_count": 3,
   "id": "cf182853",
   "metadata": {},
   "outputs": [],
   "source": [
    "df=pd.read_csv('website_ab_test.csv')"
   ]
  },
  {
   "cell_type": "code",
   "execution_count": 4,
   "id": "7ecf8ceb",
   "metadata": {},
   "outputs": [
    {
     "data": {
      "text/html": [
       "<div>\n",
       "<style scoped>\n",
       "    .dataframe tbody tr th:only-of-type {\n",
       "        vertical-align: middle;\n",
       "    }\n",
       "\n",
       "    .dataframe tbody tr th {\n",
       "        vertical-align: top;\n",
       "    }\n",
       "\n",
       "    .dataframe thead th {\n",
       "        text-align: right;\n",
       "    }\n",
       "</style>\n",
       "<table border=\"1\" class=\"dataframe\">\n",
       "  <thead>\n",
       "    <tr style=\"text-align: right;\">\n",
       "      <th></th>\n",
       "      <th>Theme</th>\n",
       "      <th>Click Through Rate</th>\n",
       "      <th>Conversion Rate</th>\n",
       "      <th>Bounce Rate</th>\n",
       "      <th>Scroll_Depth</th>\n",
       "      <th>Age</th>\n",
       "      <th>Location</th>\n",
       "      <th>Session_Duration</th>\n",
       "      <th>Purchases</th>\n",
       "      <th>Added_to_Cart</th>\n",
       "    </tr>\n",
       "  </thead>\n",
       "  <tbody>\n",
       "    <tr>\n",
       "      <th>0</th>\n",
       "      <td>Light Theme</td>\n",
       "      <td>0.054920</td>\n",
       "      <td>0.282367</td>\n",
       "      <td>0.405085</td>\n",
       "      <td>72.489458</td>\n",
       "      <td>25</td>\n",
       "      <td>Chennai</td>\n",
       "      <td>1535</td>\n",
       "      <td>No</td>\n",
       "      <td>Yes</td>\n",
       "    </tr>\n",
       "    <tr>\n",
       "      <th>1</th>\n",
       "      <td>Light Theme</td>\n",
       "      <td>0.113932</td>\n",
       "      <td>0.032973</td>\n",
       "      <td>0.732759</td>\n",
       "      <td>61.858568</td>\n",
       "      <td>19</td>\n",
       "      <td>Pune</td>\n",
       "      <td>303</td>\n",
       "      <td>No</td>\n",
       "      <td>Yes</td>\n",
       "    </tr>\n",
       "    <tr>\n",
       "      <th>2</th>\n",
       "      <td>Dark Theme</td>\n",
       "      <td>0.323352</td>\n",
       "      <td>0.178763</td>\n",
       "      <td>0.296543</td>\n",
       "      <td>45.737376</td>\n",
       "      <td>47</td>\n",
       "      <td>Chennai</td>\n",
       "      <td>563</td>\n",
       "      <td>Yes</td>\n",
       "      <td>Yes</td>\n",
       "    </tr>\n",
       "    <tr>\n",
       "      <th>3</th>\n",
       "      <td>Light Theme</td>\n",
       "      <td>0.485836</td>\n",
       "      <td>0.325225</td>\n",
       "      <td>0.245001</td>\n",
       "      <td>76.305298</td>\n",
       "      <td>58</td>\n",
       "      <td>Pune</td>\n",
       "      <td>385</td>\n",
       "      <td>Yes</td>\n",
       "      <td>No</td>\n",
       "    </tr>\n",
       "    <tr>\n",
       "      <th>4</th>\n",
       "      <td>Light Theme</td>\n",
       "      <td>0.034783</td>\n",
       "      <td>0.196766</td>\n",
       "      <td>0.765100</td>\n",
       "      <td>48.927407</td>\n",
       "      <td>25</td>\n",
       "      <td>New Delhi</td>\n",
       "      <td>1437</td>\n",
       "      <td>No</td>\n",
       "      <td>No</td>\n",
       "    </tr>\n",
       "  </tbody>\n",
       "</table>\n",
       "</div>"
      ],
      "text/plain": [
       "         Theme  Click Through Rate  Conversion Rate  Bounce Rate  \\\n",
       "0  Light Theme            0.054920         0.282367     0.405085   \n",
       "1  Light Theme            0.113932         0.032973     0.732759   \n",
       "2   Dark Theme            0.323352         0.178763     0.296543   \n",
       "3  Light Theme            0.485836         0.325225     0.245001   \n",
       "4  Light Theme            0.034783         0.196766     0.765100   \n",
       "\n",
       "   Scroll_Depth  Age   Location  Session_Duration Purchases Added_to_Cart  \n",
       "0     72.489458   25    Chennai              1535        No           Yes  \n",
       "1     61.858568   19       Pune               303        No           Yes  \n",
       "2     45.737376   47    Chennai               563       Yes           Yes  \n",
       "3     76.305298   58       Pune               385       Yes            No  \n",
       "4     48.927407   25  New Delhi              1437        No            No  "
      ]
     },
     "execution_count": 4,
     "metadata": {},
     "output_type": "execute_result"
    }
   ],
   "source": [
    "df.head()"
   ]
  },
  {
   "cell_type": "code",
   "execution_count": 6,
   "id": "bc410c64",
   "metadata": {},
   "outputs": [
    {
     "data": {
      "text/plain": [
       "{'Number of Records': 1000,\n",
       " 'Number of Columns': 10,\n",
       " 'Missing Values': Theme                 0\n",
       " Click Through Rate    0\n",
       " Conversion Rate       0\n",
       " Bounce Rate           0\n",
       " Scroll_Depth          0\n",
       " Age                   0\n",
       " Location              0\n",
       " Session_Duration      0\n",
       " Purchases             0\n",
       " Added_to_Cart         0\n",
       " dtype: int64,\n",
       " 'Numberical Columns Summary':        Click Through Rate  Conversion Rate  Bounce Rate  Scroll_Depth  \\\n",
       " count         1000.000000      1000.000000  1000.000000   1000.000000   \n",
       " mean             0.256048         0.253312     0.505758     50.319494   \n",
       " std              0.139265         0.139092     0.172195     16.895269   \n",
       " min              0.010767         0.010881     0.200720     20.011738   \n",
       " 25%              0.140794         0.131564     0.353609     35.655167   \n",
       " 50%              0.253715         0.252823     0.514049     51.130712   \n",
       " 75%              0.370674         0.373040     0.648557     64.666258   \n",
       " max              0.499989         0.498916     0.799658     79.997108   \n",
       " \n",
       "                Age  Session_Duration  \n",
       " count  1000.000000       1000.000000  \n",
       " mean     41.528000        924.999000  \n",
       " std      14.114334        508.231723  \n",
       " min      18.000000         38.000000  \n",
       " 25%      29.000000        466.500000  \n",
       " 50%      42.000000        931.000000  \n",
       " 75%      54.000000       1375.250000  \n",
       " max      65.000000       1797.000000  }"
      ]
     },
     "execution_count": 6,
     "metadata": {},
     "output_type": "execute_result"
    }
   ],
   "source": [
    "# Dataset Summary\n",
    "summary = {\n",
    "    'Number of Records': df.shape[0],\n",
    "    'Number of Columns': df.shape[1],\n",
    "    'Missing Values': df.isnull().sum(),\n",
    "    'Numberical Columns Summary': df.describe()\n",
    "}\n",
    "summary"
   ]
  },
  {
   "cell_type": "code",
   "execution_count": 7,
   "id": "a32bc105",
   "metadata": {},
   "outputs": [
    {
     "name": "stdout",
     "output_type": "stream",
     "text": [
      "<class 'pandas.core.frame.DataFrame'>\n",
      "RangeIndex: 1000 entries, 0 to 999\n",
      "Data columns (total 10 columns):\n",
      " #   Column              Non-Null Count  Dtype  \n",
      "---  ------              --------------  -----  \n",
      " 0   Theme               1000 non-null   object \n",
      " 1   Click Through Rate  1000 non-null   float64\n",
      " 2   Conversion Rate     1000 non-null   float64\n",
      " 3   Bounce Rate         1000 non-null   float64\n",
      " 4   Scroll_Depth        1000 non-null   float64\n",
      " 5   Age                 1000 non-null   int64  \n",
      " 6   Location            1000 non-null   object \n",
      " 7   Session_Duration    1000 non-null   int64  \n",
      " 8   Purchases           1000 non-null   object \n",
      " 9   Added_to_Cart       1000 non-null   object \n",
      "dtypes: float64(4), int64(2), object(4)\n",
      "memory usage: 78.3+ KB\n"
     ]
    }
   ],
   "source": [
    "df.info()"
   ]
  },
  {
   "cell_type": "code",
   "execution_count": 8,
   "id": "c7fde88d",
   "metadata": {},
   "outputs": [
    {
     "name": "stderr",
     "output_type": "stream",
     "text": [
      "C:\\Users\\Monil\\AppData\\Local\\Temp\\ipykernel_36608\\59056317.py:2: FutureWarning: The default value of numeric_only in DataFrameGroupBy.mean is deprecated. In a future version, numeric_only will default to False. Either specify numeric_only or select only columns which should be valid for the function.\n",
      "  theme_performance = df.groupby('Theme').mean()\n"
     ]
    },
    {
     "data": {
      "text/html": [
       "<div>\n",
       "<style scoped>\n",
       "    .dataframe tbody tr th:only-of-type {\n",
       "        vertical-align: middle;\n",
       "    }\n",
       "\n",
       "    .dataframe tbody tr th {\n",
       "        vertical-align: top;\n",
       "    }\n",
       "\n",
       "    .dataframe thead th {\n",
       "        text-align: right;\n",
       "    }\n",
       "</style>\n",
       "<table border=\"1\" class=\"dataframe\">\n",
       "  <thead>\n",
       "    <tr style=\"text-align: right;\">\n",
       "      <th></th>\n",
       "      <th>Click Through Rate</th>\n",
       "      <th>Conversion Rate</th>\n",
       "      <th>Bounce Rate</th>\n",
       "      <th>Scroll_Depth</th>\n",
       "      <th>Age</th>\n",
       "      <th>Session_Duration</th>\n",
       "    </tr>\n",
       "    <tr>\n",
       "      <th>Theme</th>\n",
       "      <th></th>\n",
       "      <th></th>\n",
       "      <th></th>\n",
       "      <th></th>\n",
       "      <th></th>\n",
       "      <th></th>\n",
       "    </tr>\n",
       "  </thead>\n",
       "  <tbody>\n",
       "    <tr>\n",
       "      <th>Dark Theme</th>\n",
       "      <td>0.264501</td>\n",
       "      <td>0.251282</td>\n",
       "      <td>0.512115</td>\n",
       "      <td>49.926404</td>\n",
       "      <td>41.332685</td>\n",
       "      <td>919.482490</td>\n",
       "    </tr>\n",
       "    <tr>\n",
       "      <th>Light Theme</th>\n",
       "      <td>0.247109</td>\n",
       "      <td>0.255459</td>\n",
       "      <td>0.499035</td>\n",
       "      <td>50.735232</td>\n",
       "      <td>41.734568</td>\n",
       "      <td>930.833333</td>\n",
       "    </tr>\n",
       "  </tbody>\n",
       "</table>\n",
       "</div>"
      ],
      "text/plain": [
       "             Click Through Rate  Conversion Rate  Bounce Rate  Scroll_Depth  \\\n",
       "Theme                                                                         \n",
       "Dark Theme             0.264501         0.251282     0.512115     49.926404   \n",
       "Light Theme            0.247109         0.255459     0.499035     50.735232   \n",
       "\n",
       "                   Age  Session_Duration  \n",
       "Theme                                     \n",
       "Dark Theme   41.332685        919.482490  \n",
       "Light Theme  41.734568        930.833333  "
      ]
     },
     "execution_count": 8,
     "metadata": {},
     "output_type": "execute_result"
    }
   ],
   "source": [
    "# grouping data by theme and calculating mean values\n",
    "theme_performance = df.groupby('Theme').mean()\n",
    "theme_performance"
   ]
  },
  {
   "cell_type": "code",
   "execution_count": 9,
   "id": "0ccc55b2",
   "metadata": {},
   "outputs": [
    {
     "data": {
      "text/html": [
       "<div>\n",
       "<style scoped>\n",
       "    .dataframe tbody tr th:only-of-type {\n",
       "        vertical-align: middle;\n",
       "    }\n",
       "\n",
       "    .dataframe tbody tr th {\n",
       "        vertical-align: top;\n",
       "    }\n",
       "\n",
       "    .dataframe thead th {\n",
       "        text-align: right;\n",
       "    }\n",
       "</style>\n",
       "<table border=\"1\" class=\"dataframe\">\n",
       "  <thead>\n",
       "    <tr style=\"text-align: right;\">\n",
       "      <th></th>\n",
       "      <th>Click Through Rate</th>\n",
       "      <th>Conversion Rate</th>\n",
       "      <th>Bounce Rate</th>\n",
       "      <th>Scroll_Depth</th>\n",
       "      <th>Age</th>\n",
       "      <th>Session_Duration</th>\n",
       "    </tr>\n",
       "    <tr>\n",
       "      <th>Theme</th>\n",
       "      <th></th>\n",
       "      <th></th>\n",
       "      <th></th>\n",
       "      <th></th>\n",
       "      <th></th>\n",
       "      <th></th>\n",
       "    </tr>\n",
       "  </thead>\n",
       "  <tbody>\n",
       "    <tr>\n",
       "      <th>Light Theme</th>\n",
       "      <td>0.247109</td>\n",
       "      <td>0.255459</td>\n",
       "      <td>0.499035</td>\n",
       "      <td>50.735232</td>\n",
       "      <td>41.734568</td>\n",
       "      <td>930.833333</td>\n",
       "    </tr>\n",
       "    <tr>\n",
       "      <th>Dark Theme</th>\n",
       "      <td>0.264501</td>\n",
       "      <td>0.251282</td>\n",
       "      <td>0.512115</td>\n",
       "      <td>49.926404</td>\n",
       "      <td>41.332685</td>\n",
       "      <td>919.482490</td>\n",
       "    </tr>\n",
       "  </tbody>\n",
       "</table>\n",
       "</div>"
      ],
      "text/plain": [
       "             Click Through Rate  Conversion Rate  Bounce Rate  Scroll_Depth  \\\n",
       "Theme                                                                         \n",
       "Light Theme            0.247109         0.255459     0.499035     50.735232   \n",
       "Dark Theme             0.264501         0.251282     0.512115     49.926404   \n",
       "\n",
       "                   Age  Session_Duration  \n",
       "Theme                                     \n",
       "Light Theme  41.734568        930.833333  \n",
       "Dark Theme   41.332685        919.482490  "
      ]
     },
     "execution_count": 9,
     "metadata": {},
     "output_type": "execute_result"
    }
   ],
   "source": [
    "# Sorting the data by conversion rate for a better comparison\n",
    "theme_performance_sorted = theme_performance.sort_values(by='Conversion Rate', ascending=False)\n",
    "theme_performance_sorted"
   ]
  },
  {
   "cell_type": "markdown",
   "id": "debc3af3",
   "metadata": {},
   "source": [
    "# Hypothesis Testing\n",
    "We’ll use a significance level (alpha) of 0.05 for our hypothesis testing"
   ]
  },
  {
   "cell_type": "markdown",
   "id": "5f933397",
   "metadata": {},
   "source": [
    "## 1. Hypothesis testing based on the Conversion Rate between the Light Theme and Dark Theme."
   ]
  },
  {
   "cell_type": "markdown",
   "id": "efd27fbf",
   "metadata": {},
   "source": [
    "### Null Hypothesis (H0): \n",
    "There is no difference in conversion rates between the Light theme and Dark theme\n",
    "### Alternative Hypothesis (H1): \n",
    "There is a difference in conversion rates between the Light theme and Dark theme"
   ]
  },
  {
   "cell_type": "code",
   "execution_count": 10,
   "id": "1d1f9bbe",
   "metadata": {},
   "outputs": [],
   "source": [
    "# Extracting conversion rates for both themes\n",
    "conversion_rate_light = df[df['Theme']=='Light Theme']['Conversion Rate']\n",
    "conversion_rate_dark = df[df['Theme']=='Dark Theme']['Conversion Rate']"
   ]
  },
  {
   "cell_type": "code",
   "execution_count": 11,
   "id": "761ee555",
   "metadata": {},
   "outputs": [
    {
     "name": "stdout",
     "output_type": "stream",
     "text": [
      "t-stat value: 0.4748494462782632\n",
      "p value: 0.6349982678451778\n"
     ]
    }
   ],
   "source": [
    "# performing a two-sample t-test\n",
    "t_stat, p_value = ttest_ind(conversion_rate_light, conversion_rate_dark, equal_var=False)\n",
    "print('t-stat value:',t_stat)\n",
    "print('p value:', p_value)"
   ]
  },
  {
   "cell_type": "markdown",
   "id": "9ecff48d",
   "metadata": {},
   "source": [
    "### Conclusion:\n",
    "Since p value is smuch greater than significance level, we donot have enough evidence to reject the null hypothesis."
   ]
  },
  {
   "cell_type": "markdown",
   "id": "9c7b6841",
   "metadata": {},
   "source": [
    "## 2. Hypothesis testing based on the Click Through Rate (CTR) between the Light Theme and Dark Theme."
   ]
  },
  {
   "cell_type": "markdown",
   "id": "074d73d9",
   "metadata": {},
   "source": [
    "### Null Hypothesis (H0): \n",
    "There is no difference in Click Through Rates between the Light theme and Dark theme\n",
    "### Alternative Hypothesis (H1): \n",
    "There is a difference in Click Through Rates between the Light theme and Dark theme"
   ]
  },
  {
   "cell_type": "code",
   "execution_count": 13,
   "id": "dd4dc28f",
   "metadata": {},
   "outputs": [],
   "source": [
    "# Extracting click through rate  for both themes\n",
    "click_through_rate_light=df[df['Theme']=='Light Theme']['Click Through Rate']\n",
    "click_through_rate_dark =df[df['Theme']=='Dark Theme']['Click Through Rate']"
   ]
  },
  {
   "cell_type": "code",
   "execution_count": 14,
   "id": "3907e315",
   "metadata": {},
   "outputs": [
    {
     "name": "stdout",
     "output_type": "stream",
     "text": [
      "t-test for CTR: -1.9781708664172253\n",
      "p value for CTR: 0.04818435371010704\n"
     ]
    }
   ],
   "source": [
    "# performing a two sample test\n",
    "t_test_ctr, p_value_ctr = ttest_ind(click_through_rate_light, click_through_rate_dark, equal_var=False)\n",
    "print('t-test for CTR:', t_test_ctr)\n",
    "print('p value for CTR:', p_value_ctr)"
   ]
  },
  {
   "cell_type": "markdown",
   "id": "28178691",
   "metadata": {},
   "source": [
    "### Conclusion:\n",
    "P value is slightly below our significance level indicating there is a statistically significant difference in CLick Through Rate between the Light theme and Dark theme, with the Dark theme likely having a higher CTR."
   ]
  },
  {
   "cell_type": "markdown",
   "id": "cf6b37c0",
   "metadata": {},
   "source": [
    "## 3. Hypothesis testing based on the Bounce Rate between the Light Theme and Dark Theme."
   ]
  },
  {
   "cell_type": "markdown",
   "id": "014cfffc",
   "metadata": {},
   "source": [
    "### Null Hypothesis (H0): \n",
    "There is no difference in Bounce Rate between the Light theme and Dark theme\n",
    "### Alternative Hypothesis (H1): \n",
    "There is a difference in Bounce Rate between the Light theme and Dark theme"
   ]
  },
  {
   "cell_type": "code",
   "execution_count": 15,
   "id": "20c00bec",
   "metadata": {},
   "outputs": [],
   "source": [
    "# Extracting Bounce rate for both themes\n",
    "bounce_rate_light = df[df['Theme']=='Light Theme']['Bounce Rate']\n",
    "bounce_rate_dark = df[df['Theme']=='Dark Theme']['Bounce Rate']"
   ]
  },
  {
   "cell_type": "code",
   "execution_count": 16,
   "id": "bc2554a5",
   "metadata": {},
   "outputs": [
    {
     "name": "stdout",
     "output_type": "stream",
     "text": [
      "t-test value for bounce rate: -1.2018883310494073\n",
      "p value for bounce rate: 0.229692077505148\n"
     ]
    }
   ],
   "source": [
    "# performing a two sample test\n",
    "t_test_bounce, p_value_bounce = ttest_ind(bounce_rate_light, bounce_rate_dark, equal_var=False)\n",
    "print('t-test value for bounce rate:', t_test_bounce)\n",
    "print('p value for bounce rate:', p_value_bounce)"
   ]
  },
  {
   "cell_type": "markdown",
   "id": "30079cca",
   "metadata": {},
   "source": [
    "### Conclusion:\n",
    "Since p value is greater than significance level, we do not have enough evidence to reject the null hypothesis."
   ]
  },
  {
   "cell_type": "markdown",
   "id": "0039c1fa",
   "metadata": {},
   "source": [
    "## 4. Hypothesis testing based on the Scroll Depth between the Light Theme and Dark Theme."
   ]
  },
  {
   "cell_type": "markdown",
   "id": "0f6bdda7",
   "metadata": {},
   "source": [
    "### Null Hypothesis (H0): \n",
    "There is no difference in Scroll Depth between the Light theme and Dark theme\n",
    "### Alternative Hypothesis (H1): \n",
    "There is a difference in Scroll Depth between the Light theme and Dark theme"
   ]
  },
  {
   "cell_type": "code",
   "execution_count": 19,
   "id": "6589ccc8",
   "metadata": {},
   "outputs": [],
   "source": [
    "# Extracting Bounce rate for both themes\n",
    "scroll_depth_light = df[df['Theme']=='Light Theme']['Scroll_Depth']\n",
    "scroll_depth_dark = df[df['Theme']=='Dark Theme']['Scroll_Depth']"
   ]
  },
  {
   "cell_type": "code",
   "execution_count": 21,
   "id": "95225f3b",
   "metadata": {},
   "outputs": [
    {
     "name": "stdout",
     "output_type": "stream",
     "text": [
      "t-test value for scroll depth: 0.7562277864140986\n",
      "p value for scroll depth: 0.4496919249484911\n"
     ]
    }
   ],
   "source": [
    "# performing a two-sample t-test for scroll depth\n",
    "t_test_scroll, p_value_scroll = ttest_ind(scroll_depth_light, scroll_depth_dark, equal_var=False)\n",
    "print('t-test value for scroll depth:', t_test_scroll)\n",
    "print('p value for scroll depth:', p_value_scroll)"
   ]
  },
  {
   "cell_type": "markdown",
   "id": "04c8a866",
   "metadata": {},
   "source": [
    "### Conclusion:\n",
    "Since p value is greater than significance level, we do not have enough evidence to reject the null hypothesis."
   ]
  },
  {
   "cell_type": "code",
   "execution_count": 24,
   "id": "fdf93b6e",
   "metadata": {},
   "outputs": [
    {
     "data": {
      "text/html": [
       "<div>\n",
       "<style scoped>\n",
       "    .dataframe tbody tr th:only-of-type {\n",
       "        vertical-align: middle;\n",
       "    }\n",
       "\n",
       "    .dataframe tbody tr th {\n",
       "        vertical-align: top;\n",
       "    }\n",
       "\n",
       "    .dataframe thead th {\n",
       "        text-align: right;\n",
       "    }\n",
       "</style>\n",
       "<table border=\"1\" class=\"dataframe\">\n",
       "  <thead>\n",
       "    <tr style=\"text-align: right;\">\n",
       "      <th></th>\n",
       "      <th>Metric</th>\n",
       "      <th>T-Statistic</th>\n",
       "      <th>p value</th>\n",
       "    </tr>\n",
       "  </thead>\n",
       "  <tbody>\n",
       "    <tr>\n",
       "      <th>0</th>\n",
       "      <td>Click Through Rate</td>\n",
       "      <td>-1.978171</td>\n",
       "      <td>0.048184</td>\n",
       "    </tr>\n",
       "    <tr>\n",
       "      <th>1</th>\n",
       "      <td>Conversion Rate</td>\n",
       "      <td>0.474849</td>\n",
       "      <td>0.634998</td>\n",
       "    </tr>\n",
       "    <tr>\n",
       "      <th>2</th>\n",
       "      <td>Bounce Rate</td>\n",
       "      <td>-1.201888</td>\n",
       "      <td>0.229692</td>\n",
       "    </tr>\n",
       "    <tr>\n",
       "      <th>3</th>\n",
       "      <td>Scroll Depth</td>\n",
       "      <td>0.756228</td>\n",
       "      <td>0.449692</td>\n",
       "    </tr>\n",
       "  </tbody>\n",
       "</table>\n",
       "</div>"
      ],
      "text/plain": [
       "               Metric  T-Statistic   p value\n",
       "0  Click Through Rate    -1.978171  0.048184\n",
       "1     Conversion Rate     0.474849  0.634998\n",
       "2         Bounce Rate    -1.201888  0.229692\n",
       "3        Scroll Depth     0.756228  0.449692"
      ]
     },
     "execution_count": 24,
     "metadata": {},
     "output_type": "execute_result"
    }
   ],
   "source": [
    "# Creatinga table for comparison\n",
    "comparison_table= pd.DataFrame({\n",
    "    'Metric': ['Click Through Rate','Conversion Rate','Bounce Rate', 'Scroll Depth'],\n",
    "    'T-Statistic': [t_test_ctr,t_stat, t_test_bounce, t_test_scroll],\n",
    "    'p value':[p_value_ctr, p_value, p_value_bounce, p_value_scroll]\n",
    "})\n",
    "comparison_table"
   ]
  },
  {
   "cell_type": "markdown",
   "id": "be31bc9b",
   "metadata": {},
   "source": [
    "### Click Through Rate:\n",
    "The test reveals a statistically significant difference, with the Dark theme likely performing better\n",
    "### Conversion Rate:\n",
    "No statistically significant difference was found.\n",
    "### Bounce Rate:\n",
    "No statistically significant difference found in Bounce rates.\n",
    "### Scroll Depth:\n",
    "No statistically significant difference observed in Scroll Depth."
   ]
  },
  {
   "cell_type": "markdown",
   "id": "db8748e7",
   "metadata": {},
   "source": [
    "## Summary:\n",
    "While two themes perform similarly across most metrics, the Dark theme has slight edge in terms of engaging users to click through. For other key performance indicators like Conversion rate, Bounce Rate, Scroll Depth, the choice between a Light Theme and Dark Theme doesnot significantly affect user behaviour according to the data provided."
   ]
  },
  {
   "cell_type": "code",
   "execution_count": null,
   "id": "3f8e511d",
   "metadata": {},
   "outputs": [],
   "source": []
  }
 ],
 "metadata": {
  "kernelspec": {
   "display_name": "Python 3 (ipykernel)",
   "language": "python",
   "name": "python3"
  },
  "language_info": {
   "codemirror_mode": {
    "name": "ipython",
    "version": 3
   },
   "file_extension": ".py",
   "mimetype": "text/x-python",
   "name": "python",
   "nbconvert_exporter": "python",
   "pygments_lexer": "ipython3",
   "version": "3.11.4"
  }
 },
 "nbformat": 4,
 "nbformat_minor": 5
}
